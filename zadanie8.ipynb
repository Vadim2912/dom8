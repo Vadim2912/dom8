{
 "cells": [
  {
   "cell_type": "code",
   "execution_count": null,
   "metadata": {},
   "outputs": [],
   "source": [
    "Задание 1"
   ]
  },
  {
   "cell_type": "code",
   "execution_count": null,
   "metadata": {},
   "outputs": [],
   "source": [
    "Напишите функцию, которая возвращает название валюты (поле ‘Name’) \n",
    "с максимальным значением курса с помощью сервиса https://www.cbr-xml-daily.ru/daily_json.js"
   ]
  },
  {
   "cell_type": "code",
   "execution_count": 2,
   "metadata": {},
   "outputs": [],
   "source": [
    "import requests"
   ]
  },
  {
   "cell_type": "code",
   "execution_count": 3,
   "metadata": {},
   "outputs": [],
   "source": [
    "class Rate:\n",
    "    def __init__(self, format_='value',df = False):\n",
    "        self.format = format_\n",
    "        self.diff = df                               # параметр мб False, True\n",
    "    def exchange_rates(self):\n",
    "        r = requests.get('https://www.cbr-xml-daily.ru/daily_json.js')\n",
    "        return r.json()['Valute']\n",
    "    def make_format(self, currency):\n",
    "        response = self.exchange_rates()\n",
    "        if currency in response:\n",
    "            if self.format == 'full':\n",
    "                return response[currency]\n",
    "            if self.diff == True:                            # если True, то разность. Иначе Value\n",
    "                return response[currency]['Value'] - response[currency]['Previous']\n",
    "            if self.format == 'value':\n",
    "                return response[currency]['Value']\n",
    "            if self.format == 'Previous':\n",
    "                return response[currency]['Previous']\n",
    "\n",
    "        return 'Error'\n",
    "    \n",
    "    def eur(self):\n",
    "        return self.make_format('EUR')\n",
    "    def usd(self):\n",
    "        return self.make_format('USD')\n",
    "    def brl(self):\n",
    "        return self.make_format('BRL')\n",
    "    \n",
    "    def make_max(self, currency):\n",
    "        response = self.exchange_rates()\n",
    "        if currency in response:\n",
    "            if self.format == 'full':\n",
    "                return response[currency]\n",
    "            print(response[currency]['Name'])\n",
    "            if response[currency]['Value'] >= response[currency]['Previous']:\n",
    "                return response[currency]['Value']\n",
    "            else:\n",
    "                return response[currency]['Previous']\n",
    "        return 'Error' \n",
    "    \n",
    "    def max_eur(self):\n",
    "        return self.make_max('EUR')\n",
    "    def max_usd(self):\n",
    "        return self.make_max('USD')"
   ]
  },
  {
   "cell_type": "code",
   "execution_count": 4,
   "metadata": {},
   "outputs": [
    {
     "name": "stdout",
     "output_type": "stream",
     "text": [
      "Евро\n"
     ]
    },
    {
     "data": {
      "text/plain": [
       "68.656"
      ]
     },
     "execution_count": 4,
     "metadata": {},
     "output_type": "execute_result"
    }
   ],
   "source": [
    "Rate().max_eur()"
   ]
  },
  {
   "cell_type": "code",
   "execution_count": 5,
   "metadata": {},
   "outputs": [
    {
     "name": "stdout",
     "output_type": "stream",
     "text": [
      "Доллар США\n"
     ]
    },
    {
     "data": {
      "text/plain": [
       "61.5694"
      ]
     },
     "execution_count": 5,
     "metadata": {},
     "output_type": "execute_result"
    }
   ],
   "source": [
    "Rate().max_usd()"
   ]
  },
  {
   "cell_type": "code",
   "execution_count": null,
   "metadata": {},
   "outputs": [],
   "source": [
    "Задание 2\n",
    "Добавьте в класс Rate параметр diff (со значениями True или False), \n",
    "который в случае значения True в методах eur и usd будет возвращать не курс валюты, а изменение по сравнению в прошлым значением. \n",
    "Считайте, self.diff будет принимать значение True только при возврате значения курса. \n",
    "При отображении всей информации о валюте он не используется."
   ]
  },
  {
   "cell_type": "code",
   "execution_count": 6,
   "metadata": {},
   "outputs": [
    {
     "data": {
      "text/plain": [
       "-0.12020000000001119"
      ]
     },
     "execution_count": 6,
     "metadata": {},
     "output_type": "execute_result"
    }
   ],
   "source": [
    "Rate(df = True).eur()"
   ]
  },
  {
   "cell_type": "code",
   "execution_count": 7,
   "metadata": {},
   "outputs": [
    {
     "data": {
      "text/plain": [
       "-0.12020000000001119"
      ]
     },
     "execution_count": 7,
     "metadata": {},
     "output_type": "execute_result"
    }
   ],
   "source": [
    "Rate(df = True).eur()"
   ]
  },
  {
   "cell_type": "code",
   "execution_count": 8,
   "metadata": {},
   "outputs": [
    {
     "data": {
      "text/plain": [
       "{'ID': 'R01239',\n",
       " 'NumCode': '978',\n",
       " 'CharCode': 'EUR',\n",
       " 'Nominal': 1,\n",
       " 'Name': 'Евро',\n",
       " 'Value': 68.5358,\n",
       " 'Previous': 68.656}"
      ]
     },
     "execution_count": 8,
     "metadata": {},
     "output_type": "execute_result"
    }
   ],
   "source": [
    "Rate('full').eur()"
   ]
  },
  {
   "cell_type": "code",
   "execution_count": null,
   "metadata": {},
   "outputs": [],
   "source": [
    "Задание 3\n",
    "Напишите класс Designer, который учитывает количество международных премий. \n",
    "Подсказки в коде занятия в разделе “Домашнее задание задача 3”."
   ]
  },
  {
   "cell_type": "code",
   "execution_count": 20,
   "metadata": {},
   "outputs": [],
   "source": [
    "class Employee:\n",
    "    def __init__(self, name, seniority):\n",
    "        self.name = name\n",
    "        self.seniority = seniority\n",
    "        \n",
    "        self.grade = 1\n",
    "    \n",
    "    def grade_up(self):\n",
    "        \"\"\"Повышает уровень сотрудника\"\"\"\n",
    "        self.grade += 1\n",
    "    \n",
    "    def publish_grade(self):\n",
    "        \"\"\"Публикация результатов аккредитации сотрудников\"\"\"\n",
    "        print(self.name, self.grade)"
   ]
  },
  {
   "cell_type": "code",
   "execution_count": 21,
   "metadata": {},
   "outputs": [],
   "source": [
    "class Developer(Employee): # наследуем от Employee\n",
    "    def __init__(self, name, seniority):\n",
    "        super().__init__(name, seniority)\n",
    "    \n",
    "    def check_if_it_is_time_for_upgrade(self):\n",
    "        # для каждой аккредитации увеличиваем счетчик на 1\n",
    "        # пока считаем, что все разработчики проходят аккредитацию\n",
    "        self.seniority += 1\n",
    "        \n",
    "        # условие повышения сотрудника из презентации\n",
    "        if self.seniority % 5 == 0:\n",
    "            self.grade_up()\n",
    "        \n",
    "        # результат - публикация результатов\n",
    "        return self.publish_grade()"
   ]
  },
  {
   "cell_type": "code",
   "execution_count": 22,
   "metadata": {},
   "outputs": [],
   "source": [
    "class Designer(Employee): # наследуем от Employee по аналогии с Developer\n",
    "    def __init__(self, name, seniority, awards):\n",
    "        super().__init__(name, seniority)\n",
    "        self.awards = awards\n",
    "        \n",
    "    def check_if_it_is_time_for_upgrade(self):\n",
    "        # для каждой аккредитации увеличиваем счетчик на 1\n",
    "        # пока считаем, что все дизайнеры проходят аккредитацию\n",
    "        self.seniority += 1\n",
    "        \n",
    "        # условие повышения сотрудника из презентации\n",
    "        if self.seniority % 7 == 0:\n",
    "            self.grade_up()\n",
    "            \n",
    "        # получение международной премии +2 балла единовременно\n",
    "        self.grade = self.grade + self.awards\n",
    "        self.awards = 0\n",
    "            \n",
    "        # результат - публикация результатов\n",
    "        return self.publish_grade()"
   ]
  },
  {
   "cell_type": "code",
   "execution_count": 23,
   "metadata": {},
   "outputs": [],
   "source": [
    "elena = Designer('Елена Вальдемаровна', seniority=0, awards=2)"
   ]
  },
  {
   "cell_type": "code",
   "execution_count": 19,
   "metadata": {},
   "outputs": [
    {
     "name": "stdout",
     "output_type": "stream",
     "text": [
      "Елена Вальдемаровна 3\n",
      "Елена Вальдемаровна 3\n",
      "Елена Вальдемаровна 3\n",
      "Елена Вальдемаровна 3\n",
      "Елена Вальдемаровна 3\n",
      "Елена Вальдемаровна 3\n",
      "Елена Вальдемаровна 4\n",
      "Елена Вальдемаровна 4\n",
      "Елена Вальдемаровна 4\n",
      "Елена Вальдемаровна 4\n",
      "Елена Вальдемаровна 4\n",
      "Елена Вальдемаровна 4\n",
      "Елена Вальдемаровна 4\n",
      "Елена Вальдемаровна 5\n",
      "Елена Вальдемаровна 5\n",
      "Елена Вальдемаровна 5\n",
      "Елена Вальдемаровна 5\n",
      "Елена Вальдемаровна 5\n",
      "Елена Вальдемаровна 5\n",
      "Елена Вальдемаровна 5\n"
     ]
    }
   ],
   "source": [
    "for i in range(20):\n",
    "    elena.check_if_it_is_time_for_upgrade()"
   ]
  },
  {
   "cell_type": "code",
   "execution_count": null,
   "metadata": {},
   "outputs": [],
   "source": []
  }
 ],
 "metadata": {
  "kernelspec": {
   "display_name": "Python 3",
   "language": "python",
   "name": "python3"
  },
  "language_info": {
   "codemirror_mode": {
    "name": "ipython",
    "version": 3
   },
   "file_extension": ".py",
   "mimetype": "text/x-python",
   "name": "python",
   "nbconvert_exporter": "python",
   "pygments_lexer": "ipython3",
   "version": "3.7.3"
  }
 },
 "nbformat": 4,
 "nbformat_minor": 2
}
